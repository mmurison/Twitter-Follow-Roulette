{
 "cells": [
  {
   "cell_type": "code",
   "execution_count": 1,
   "metadata": {},
   "outputs": [],
   "source": [
    "import tweepy\n",
    "import webbrowser\n",
    "import random\n",
    "\n",
    "# Inspired by CodingEntrepreneurs Day 21 of Python Video\n",
    "# Code follows a random friend from a user you select"
   ]
  },
  {
   "cell_type": "code",
   "execution_count": 2,
   "metadata": {},
   "outputs": [
    {
     "name": "stdout",
     "output_type": "stream",
     "text": [
      "What's the pin value? 1720282\n"
     ]
    }
   ],
   "source": [
    "consumer_key = \"\" #Enter your consumer key here\n",
    "consumer_secret = \"\" #Enter your consumer secret key here\n",
    "callback_uri = 'oob' # url\n",
    "auth = tweepy.OAuthHandler(consumer_key, consumer_secret, callback_uri)\n",
    "redirect_url = auth.get_authorization_url()\n",
    "webbrowser.open(redirect_url)\n",
    "user_pin_input = input(\"What's the pin value? \")\n",
    "auth.get_access_token(user_pin_input)\n",
    "api = tweepy.API(auth, wait_on_rate_limit = True)\n",
    "\n",
    "# An API authorized Twitter account is required for the code to work, a popup for Twitter to authorize will appear,\n",
    "# just paste the code given into the pin value? section and you can use the code block below"
   ]
  },
  {
   "cell_type": "code",
   "execution_count": 3,
   "metadata": {},
   "outputs": [
    {
     "name": "stdout",
     "output_type": "stream",
     "text": [
      "Congratulations! You are now friends with: RobinMeade!\n"
     ]
    }
   ],
   "source": [
    "user = \"\" #Enter your twitter user here, user should have at least 25 friends (people they follow who follow them back)\n",
    "follower_number = random.randint(0, 24)\n",
    "\n",
    "for i, follower in enumerate(tweepy.Cursor(api.friends_ids, screen_name = user).items(25)):\n",
    "    if i == follower_number:\n",
    "        relationship = api.create_friendship(follower)\n",
    "        print(\"Congratulations! You are now friends with: \" + api.get_user(follower).screen_name + \"!\")\n",
    "        break"
   ]
  }
 ],
 "metadata": {
  "kernelspec": {
   "display_name": "Python 3",
   "language": "python",
   "name": "python3"
  },
  "language_info": {
   "codemirror_mode": {
    "name": "ipython",
    "version": 3
   },
   "file_extension": ".py",
   "mimetype": "text/x-python",
   "name": "python",
   "nbconvert_exporter": "python",
   "pygments_lexer": "ipython3",
   "version": "3.8.3"
  }
 },
 "nbformat": 4,
 "nbformat_minor": 4
}
